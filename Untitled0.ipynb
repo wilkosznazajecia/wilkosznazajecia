{
  "nbformat": 4,
  "nbformat_minor": 0,
  "metadata": {
    "colab": {
      "name": "Untitled0.ipynb",
      "provenance": [],
      "toc_visible": true,
      "authorship_tag": "ABX9TyM0w6m0sJ+HXw+/XjbjNNu3",
      "include_colab_link": true
    },
    "kernelspec": {
      "name": "python3",
      "display_name": "Python 3"
    }
  },
  "cells": [
    {
      "cell_type": "markdown",
      "metadata": {
        "id": "view-in-github",
        "colab_type": "text"
      },
      "source": [
        "<a href=\"https://colab.research.google.com/github/wilkosznazajecia/wilkosznazajecia/blob/grupa2/Untitled0.ipynb\" target=\"_parent\"><img src=\"https://colab.research.google.com/assets/colab-badge.svg\" alt=\"Open In Colab\"/></a>"
      ]
    },
    {
      "cell_type": "markdown",
      "metadata": {
        "id": "2ULDKKTZe6YW",
        "colab_type": "text"
      },
      "source": [
        "# Sieci - Z2 - Grupa 2 - 2.03.2020"
      ]
    },
    {
      "cell_type": "markdown",
      "metadata": {
        "id": "mNVhT94IfLpl",
        "colab_type": "text"
      },
      "source": [
        "Podstawowe operacje arytmetyczne\n",
        "‒\tDodawanie \t+\n",
        "o\tx += 7 oznacza x = x+7\n",
        "‒\tOdejmowanie\t-\n",
        "‒\tMnożenie\t*\n",
        "‒\tDzielenie\t/\n",
        "‒\tModulo\t%\n",
        "‒\tPotęga\t\t**\n",
        "‒\tDzielenie bez reszty\t//\n"
      ]
    },
    {
      "cell_type": "code",
      "metadata": {
        "id": "RBDv8hF8fo3H",
        "colab_type": "code",
        "colab": {}
      },
      "source": [
        "x=10\n",
        "x=x+7"
      ],
      "execution_count": 0,
      "outputs": []
    },
    {
      "cell_type": "code",
      "metadata": {
        "id": "55ross-qf4ci",
        "colab_type": "code",
        "colab": {
          "base_uri": "https://localhost:8080/",
          "height": 34
        },
        "outputId": "fbe71017-3016-42cd-ebe0-2a37acb79925"
      },
      "source": [
        "print(x)"
      ],
      "execution_count": 4,
      "outputs": [
        {
          "output_type": "stream",
          "text": [
            "17\n"
          ],
          "name": "stdout"
        }
      ]
    },
    {
      "cell_type": "code",
      "metadata": {
        "id": "rrVmyNqJgCzt",
        "colab_type": "code",
        "colab": {
          "base_uri": "https://localhost:8080/",
          "height": 34
        },
        "outputId": "fa365957-30df-40d2-b9af-57a022d46569"
      },
      "source": [
        "y=11\n",
        "y+=3\n",
        "print(y)"
      ],
      "execution_count": 7,
      "outputs": [
        {
          "output_type": "stream",
          "text": [
            "14\n"
          ],
          "name": "stdout"
        }
      ]
    },
    {
      "cell_type": "code",
      "metadata": {
        "id": "T3Fw1Pl1gQHQ",
        "colab_type": "code",
        "colab": {
          "base_uri": "https://localhost:8080/",
          "height": 34
        },
        "outputId": "f2ab4b75-d445-40a2-b5e2-e9a0f4606084"
      },
      "source": [
        "a=\"piesek\"\n",
        "a=a*12\n",
        "print(a)"
      ],
      "execution_count": 13,
      "outputs": [
        {
          "output_type": "stream",
          "text": [
            "piesekpiesekpiesekpiesekpiesekpiesekpiesekpiesekpiesekpiesekpiesekpiesek\n"
          ],
          "name": "stdout"
        }
      ]
    },
    {
      "cell_type": "code",
      "metadata": {
        "id": "OXnSudxse3CZ",
        "colab_type": "code",
        "colab": {
          "base_uri": "https://localhost:8080/",
          "height": 34
        },
        "outputId": "fabf60e7-dfa9-4922-acd9-a46110d301cb"
      },
      "source": [
        "u=\"ooOOoo\"\n",
        "o=\"uuuUUUuuu\"\n",
        "ou=o+u\n",
        "print(ou)"
      ],
      "execution_count": 17,
      "outputs": [
        {
          "output_type": "stream",
          "text": [
            "uuuUUUuuuooOOoo\n"
          ],
          "name": "stdout"
        }
      ]
    },
    {
      "cell_type": "code",
      "metadata": {
        "id": "_04HtC5RhyBm",
        "colab_type": "code",
        "colab": {}
      },
      "source": [
        "# można dodawać ciąg znaków, można mnożyć ciąg znaków przez liczbę"
      ],
      "execution_count": 0,
      "outputs": []
    },
    {
      "cell_type": "code",
      "metadata": {
        "id": "cm_6-rh2iYhy",
        "colab_type": "code",
        "colab": {
          "base_uri": "https://localhost:8080/",
          "height": 34
        },
        "outputId": "e3d20f39-2584-4ae9-bcd9-b6944fa9a123"
      },
      "source": [
        "wiedzmin3najlepszy=10\n",
        "print(wiedzmin3najlepszy)\n",
        "#unikamy polskich znaków"
      ],
      "execution_count": 21,
      "outputs": [
        {
          "output_type": "stream",
          "text": [
            "10\n"
          ],
          "name": "stdout"
        }
      ]
    },
    {
      "cell_type": "code",
      "metadata": {
        "id": "CeeDw6y0ijpW",
        "colab_type": "code",
        "colab": {
          "base_uri": "https://localhost:8080/",
          "height": 180
        },
        "outputId": "faaa360a-4f90-4bd8-863d-2be768b6bbdb"
      },
      "source": [
        "print(WIEDZMIN3NAJLEPSZY)\n",
        "#WIELKOŚĆ ZNAKÓW MA ZNACZENIE"
      ],
      "execution_count": 26,
      "outputs": [
        {
          "output_type": "error",
          "ename": "NameError",
          "evalue": "ignored",
          "traceback": [
            "\u001b[0;31m---------------------------------------------------------------------------\u001b[0m",
            "\u001b[0;31mNameError\u001b[0m                                 Traceback (most recent call last)",
            "\u001b[0;32m<ipython-input-26-480db0e069a3>\u001b[0m in \u001b[0;36m<module>\u001b[0;34m()\u001b[0m\n\u001b[0;32m----> 1\u001b[0;31m \u001b[0mprint\u001b[0m\u001b[0;34m(\u001b[0m\u001b[0mWIEDZMIN3NAJLEPSZY\u001b[0m\u001b[0;34m)\u001b[0m\u001b[0;34m\u001b[0m\u001b[0;34m\u001b[0m\u001b[0m\n\u001b[0m\u001b[1;32m      2\u001b[0m \u001b[0;31m#WIELKOŚĆ ZNAKÓW MA ZNACZENIE\u001b[0m\u001b[0;34m\u001b[0m\u001b[0;34m\u001b[0m\u001b[0;34m\u001b[0m\u001b[0m\n",
            "\u001b[0;31mNameError\u001b[0m: name 'WIEDZMIN3NAJLEPSZY' is not defined"
          ]
        }
      ]
    },
    {
      "cell_type": "code",
      "metadata": {
        "id": "4B6jrb3wi-ZF",
        "colab_type": "code",
        "colab": {}
      },
      "source": [
        "#unikać zmiennych w stylu \"x\" i \"y\", najlepiej nadać im znaczenie\n",
        "#‒\tMuszą zaczynać się od litery lub podkreślenia\n",
        "#‒\tMogą zawierać litery, cyfry, podkreślenia (bez polskich znaków)\n",
        "#‒\tWielkość znaków ma znaczenie\n",
        "#‒\tPewne słowa są zarezerwowane np. do funkcji i metod  tych zarezerwowanych słów nie stosuje się do nazywania zmiennych\n",
        "#‒\tNazwy zmiennych mają nieść znaczenie!\n"
      ],
      "execution_count": 0,
      "outputs": []
    },
    {
      "cell_type": "code",
      "metadata": {
        "id": "d1MQSFrfjjZY",
        "colab_type": "code",
        "colab": {
          "base_uri": "https://localhost:8080/",
          "height": 34
        },
        "outputId": "9efb487e-a90d-4b79-8222-92a52bd5a899"
      },
      "source": [
        "type(3)\n",
        "#naturalna"
      ],
      "execution_count": 36,
      "outputs": [
        {
          "output_type": "execute_result",
          "data": {
            "text/plain": [
              "int"
            ]
          },
          "metadata": {
            "tags": []
          },
          "execution_count": 36
        }
      ]
    },
    {
      "cell_type": "code",
      "metadata": {
        "id": "8B0B06J_lBHN",
        "colab_type": "code",
        "colab": {
          "base_uri": "https://localhost:8080/",
          "height": 34
        },
        "outputId": "0e68489b-1f47-4992-f72c-35c20cd2c4e1"
      },
      "source": [
        "type(7.5)\n",
        "#rzeczywista"
      ],
      "execution_count": 31,
      "outputs": [
        {
          "output_type": "execute_result",
          "data": {
            "text/plain": [
              "float"
            ]
          },
          "metadata": {
            "tags": []
          },
          "execution_count": 31
        }
      ]
    },
    {
      "cell_type": "code",
      "metadata": {
        "id": "V2PaIekslDtY",
        "colab_type": "code",
        "colab": {
          "base_uri": "https://localhost:8080/",
          "height": 34
        },
        "outputId": "7c8892b7-068c-4851-cc57-ce70853d83e9"
      },
      "source": [
        "type(\"sparrow\")"
      ],
      "execution_count": 33,
      "outputs": [
        {
          "output_type": "execute_result",
          "data": {
            "text/plain": [
              "str"
            ]
          },
          "metadata": {
            "tags": []
          },
          "execution_count": 33
        }
      ]
    },
    {
      "cell_type": "code",
      "metadata": {
        "id": "Pj2KAomelGBi",
        "colab_type": "code",
        "colab": {
          "base_uri": "https://localhost:8080/",
          "height": 34
        },
        "outputId": "de233f33-051b-4a34-aa0d-e272dfedf459"
      },
      "source": [
        "sparrow = True\n",
        "type(sparrow)\n",
        "#Prawda/Fałsz"
      ],
      "execution_count": 35,
      "outputs": [
        {
          "output_type": "execute_result",
          "data": {
            "text/plain": [
              "bool"
            ]
          },
          "metadata": {
            "tags": []
          },
          "execution_count": 35
        }
      ]
    },
    {
      "cell_type": "code",
      "metadata": {
        "id": "fWWx0AoZlVvc",
        "colab_type": "code",
        "colab": {
          "base_uri": "https://localhost:8080/",
          "height": 34
        },
        "outputId": "c5ea700b-5628-408d-b1c1-bda14d2faf24"
      },
      "source": [
        "3 == 3"
      ],
      "execution_count": 37,
      "outputs": [
        {
          "output_type": "execute_result",
          "data": {
            "text/plain": [
              "True"
            ]
          },
          "metadata": {
            "tags": []
          },
          "execution_count": 37
        }
      ]
    },
    {
      "cell_type": "code",
      "metadata": {
        "id": "vspHsZ2xl7jG",
        "colab_type": "code",
        "colab": {
          "base_uri": "https://localhost:8080/",
          "height": 34
        },
        "outputId": "a9d082a2-71d4-4160-9c5c-05bc6eb0fd1b"
      },
      "source": [
        "3 == 7"
      ],
      "execution_count": 38,
      "outputs": [
        {
          "output_type": "execute_result",
          "data": {
            "text/plain": [
              "False"
            ]
          },
          "metadata": {
            "tags": []
          },
          "execution_count": 38
        }
      ]
    },
    {
      "cell_type": "code",
      "metadata": {
        "id": "Ues7DBW0l9qc",
        "colab_type": "code",
        "colab": {
          "base_uri": "https://localhost:8080/",
          "height": 34
        },
        "outputId": "6d7c8094-2c2f-4c6c-f608-ca3f67814335"
      },
      "source": [
        "3 != 3"
      ],
      "execution_count": 40,
      "outputs": [
        {
          "output_type": "execute_result",
          "data": {
            "text/plain": [
              "False"
            ]
          },
          "metadata": {
            "tags": []
          },
          "execution_count": 40
        }
      ]
    },
    {
      "cell_type": "code",
      "metadata": {
        "id": "8l7V1yi2mEPr",
        "colab_type": "code",
        "colab": {
          "base_uri": "https://localhost:8080/",
          "height": 34
        },
        "outputId": "a4d05404-02fd-4976-8ed4-b28e26591fd6"
      },
      "source": [
        "ciagznakow1 = 13\n",
        "ciagznakow2 = 12\n",
        "ciagznakow1 <= ciagznakow2\n",
        "\"uwu\" == \"uwunt\""
      ],
      "execution_count": 42,
      "outputs": [
        {
          "output_type": "execute_result",
          "data": {
            "text/plain": [
              "False"
            ]
          },
          "metadata": {
            "tags": []
          },
          "execution_count": 42
        }
      ]
    },
    {
      "cell_type": "markdown",
      "metadata": {
        "id": "RyKg-1-4morZ",
        "colab_type": "text"
      },
      "source": [
        "OPERACJE LOGICZNE\n",
        "‒\tporównanie ==\n",
        "‒\tmniejsze niż <\n",
        "‒\tmniejsze niż lub równe <=\n",
        "‒\tnierówne !=\n"
      ]
    },
    {
      "cell_type": "markdown",
      "metadata": {
        "id": "sxwBkAt1nV2x",
        "colab_type": "text"
      },
      "source": [
        "len(s)¶\n",
        "Return the length (the number of items) of an object. The argument may be a sequence (such as a string, bytes, tuple, list, or range) or a collection (such as a dictionary, set, or frozen set)."
      ]
    },
    {
      "cell_type": "code",
      "metadata": {
        "id": "E3iCeGbdmccz",
        "colab_type": "code",
        "colab": {
          "base_uri": "https://localhost:8080/",
          "height": 34
        },
        "outputId": "34710472-b30c-4a42-8187-7230df93fdef"
      },
      "source": [
        "len(\"ciagznakow1\")"
      ],
      "execution_count": 44,
      "outputs": [
        {
          "output_type": "execute_result",
          "data": {
            "text/plain": [
              "11"
            ]
          },
          "metadata": {
            "tags": []
          },
          "execution_count": 44
        }
      ]
    },
    {
      "cell_type": "code",
      "metadata": {
        "id": "0fH07dCenfGh",
        "colab_type": "code",
        "colab": {
          "base_uri": "https://localhost:8080/",
          "height": 34
        },
        "outputId": "76caa178-4beb-4497-b366-5ec8ac14bd39"
      },
      "source": [
        "len(\"ciag znakow 1\")"
      ],
      "execution_count": 45,
      "outputs": [
        {
          "output_type": "execute_result",
          "data": {
            "text/plain": [
              "13"
            ]
          },
          "metadata": {
            "tags": []
          },
          "execution_count": 45
        }
      ]
    },
    {
      "cell_type": "code",
      "metadata": {
        "id": "LbAGQhhYnsgK",
        "colab_type": "code",
        "colab": {
          "base_uri": "https://localhost:8080/",
          "height": 34
        },
        "outputId": "1bdf4b90-942a-4b45-923e-f8a66d8234b1"
      },
      "source": [
        "#tworzę listę, pytam o ilość pozycji na liście\n",
        "org = [\"Psy\", \"Koty\", \"Pieczarki\"]\n",
        "len(org)"
      ],
      "execution_count": 49,
      "outputs": [
        {
          "output_type": "execute_result",
          "data": {
            "text/plain": [
              "3"
            ]
          },
          "metadata": {
            "tags": []
          },
          "execution_count": 49
        }
      ]
    },
    {
      "cell_type": "code",
      "metadata": {
        "id": "dx1HR_BvoKl-",
        "colab_type": "code",
        "colab": {}
      },
      "source": [
        ""
      ],
      "execution_count": 0,
      "outputs": []
    }
  ]
}